{
  "nbformat": 4,
  "nbformat_minor": 0,
  "metadata": {
    "colab": {
      "provenance": []
    },
    "kernelspec": {
      "name": "python3",
      "display_name": "Python 3"
    },
    "language_info": {
      "name": "python"
    }
  },
  "cells": [
    {
      "cell_type": "markdown",
      "source": [
        "**1. Creating a Synthetic dataset**"
      ],
      "metadata": {
        "id": "dUK4c_xsAGW2"
      }
    },
    {
      "cell_type": "code",
      "execution_count": 1,
      "metadata": {
        "colab": {
          "base_uri": "https://localhost:8080/"
        },
        "id": "l781S6PLAETV",
        "outputId": "de21db99-d995-407e-b440-a8b6b62b9c32"
      },
      "outputs": [
        {
          "output_type": "stream",
          "name": "stdout",
          "text": [
            "Synthetic dataset created!\n"
          ]
        }
      ],
      "source": [
        "import pandas as pd\n",
        "import numpy as np\n",
        "import random\n",
        "\n",
        "# Define districts\n",
        "districts = [\"Colombo\", \"Gampaha\", \"Kandy\", \"Jaffna\", \"Galle\", \"Anuradhapura\", \"Kurunegala\", \"Batticaloa\", \"Matara\", \"Badulla\"]\n",
        "\n",
        "# Initialize dataset\n",
        "data = []\n",
        "\n",
        "# Function to simulate risk level\n",
        "def assign_risk(temp, humidity, rainfall, wind, cases):\n",
        "    if cases > 50 or (humidity > 85 and rainfall > 150):\n",
        "        return \"High\"\n",
        "    elif cases > 20 or (humidity > 75 and rainfall > 100):\n",
        "        return \"Medium\"\n",
        "    else:\n",
        "        return \"Low\"\n",
        "\n",
        "# Generate 500 rows (10 districts × 50 weeks)\n",
        "for _ in range(500):\n",
        "    district = random.choice(districts)\n",
        "    temp = round(np.random.normal(loc=30, scale=2), 1)\n",
        "    humidity = np.random.randint(65, 95)\n",
        "    rainfall = round(np.random.normal(loc=100, scale=50), 1)\n",
        "    wind_speed = round(np.random.normal(loc=5, scale=2), 1)\n",
        "\n",
        "    # Simulate cases based on weather\n",
        "    base_cases = np.clip((humidity / 100) * (rainfall / 10) + random.gauss(5, 10), 0, 120)\n",
        "    cases_last_week = int(base_cases)\n",
        "\n",
        "    risk_level = assign_risk(temp, humidity, rainfall, wind_speed, cases_last_week)\n",
        "\n",
        "    data.append([district, temp, humidity, rainfall, wind_speed, cases_last_week, risk_level])\n",
        "\n",
        "# Convert to DataFrame\n",
        "df = pd.DataFrame(data, columns=[\"district\", \"temperature\", \"humidity\", \"rainfall\", \"wind_speed\", \"cases_last_week\", \"risk_level\"])\n",
        "\n",
        "# Save to CSV\n",
        "df.to_csv(\"sri_lanka_weather_dengue.csv\", index=False)\n",
        "\n",
        "print(\"Synthetic dataset created!\")\n"
      ]
    },
    {
      "cell_type": "markdown",
      "source": [
        "**2. Training the Model**"
      ],
      "metadata": {
        "id": "HmthdO_wAYgn"
      }
    },
    {
      "cell_type": "code",
      "source": [
        "import pandas as pd\n",
        "from sklearn.ensemble import RandomForestClassifier\n",
        "from sklearn.model_selection import train_test_split\n",
        "import pickle\n",
        "\n",
        "# Load data\n",
        "df = pd.read_csv('sri_lanka_weather_dengue.csv')\n",
        "\n",
        "# Features and target\n",
        "X = df[['temperature', 'humidity', 'rainfall', 'wind_speed', 'cases_last_week']]\n",
        "y = df['risk_level']\n",
        "\n",
        "# Split\n",
        "X_train, X_test, y_train, y_test = train_test_split(X, y, test_size=0.2, random_state=42)\n",
        "\n",
        "# Train model\n",
        "model = RandomForestClassifier()\n",
        "model.fit(X_train, y_train)\n",
        "\n",
        "# Save model\n",
        "with open('model.pkl', 'wb') as f:\n",
        "    pickle.dump(model, f)"
      ],
      "metadata": {
        "id": "x6iUX5btAeje"
      },
      "execution_count": 3,
      "outputs": []
    },
    {
      "cell_type": "markdown",
      "source": [
        "**3. Simple Web App with Streamlit**"
      ],
      "metadata": {
        "id": "KW8kIUIOArVt"
      }
    },
    {
      "cell_type": "code",
      "source": [
        "# streamlit_app.py\n",
        "import streamlit as st\n",
        "import pickle\n",
        "import numpy as np\n",
        "\n",
        "# Load model\n",
        "model = pickle.load(open('model.pkl', 'rb'))\n",
        "\n",
        "st.title(\"🇱🇰 Dengue Risk Predictor - Sri Lanka\")\n",
        "\n",
        "# Input fields\n",
        "temp = st.number_input(\"Temperature (°C)\", 20.0, 40.0)\n",
        "humidity = st.slider(\"Humidity (%)\", 0, 100)\n",
        "rainfall = st.number_input(\"Rainfall (mm)\", 0.0, 500.0)\n",
        "wind_speed = st.number_input(\"Wind Speed (km/h)\", 0.0, 20.0)\n",
        "cases = st.number_input(\"Dengue Cases Last Week\", 0, 500)\n",
        "\n",
        "if st.button(\"Predict Risk Level\"):\n",
        "    input_data = np.array([[temp, humidity, rainfall, wind_speed, cases]])\n",
        "    prediction = model.predict(input_data)[0]\n",
        "    st.subheader(f\"⚠️ Predicted Risk Level: **{prediction}**\")\n"
      ],
      "metadata": {
        "colab": {
          "base_uri": "https://localhost:8080/"
        },
        "id": "RXP6ImmEAuKt",
        "outputId": "ae7e1767-4286-4ed7-c437-c7adf83535b2"
      },
      "execution_count": 6,
      "outputs": [
        {
          "output_type": "stream",
          "name": "stderr",
          "text": [
            "2025-07-07 13:11:45.122 WARNING streamlit.runtime.scriptrunner_utils.script_run_context: Thread 'MainThread': missing ScriptRunContext! This warning can be ignored when running in bare mode.\n",
            "2025-07-07 13:11:45.395 \n",
            "  \u001b[33m\u001b[1mWarning:\u001b[0m to view this Streamlit app on a browser, run it with the following\n",
            "  command:\n",
            "\n",
            "    streamlit run /usr/local/lib/python3.11/dist-packages/colab_kernel_launcher.py [ARGUMENTS]\n",
            "2025-07-07 13:11:45.397 Thread 'MainThread': missing ScriptRunContext! This warning can be ignored when running in bare mode.\n",
            "2025-07-07 13:11:45.399 Thread 'MainThread': missing ScriptRunContext! This warning can be ignored when running in bare mode.\n",
            "2025-07-07 13:11:45.400 Thread 'MainThread': missing ScriptRunContext! This warning can be ignored when running in bare mode.\n",
            "2025-07-07 13:11:45.404 Thread 'MainThread': missing ScriptRunContext! This warning can be ignored when running in bare mode.\n",
            "2025-07-07 13:11:45.405 Thread 'MainThread': missing ScriptRunContext! This warning can be ignored when running in bare mode.\n",
            "2025-07-07 13:11:45.406 Thread 'MainThread': missing ScriptRunContext! This warning can be ignored when running in bare mode.\n",
            "2025-07-07 13:11:45.407 Session state does not function when running a script without `streamlit run`\n",
            "2025-07-07 13:11:45.408 Thread 'MainThread': missing ScriptRunContext! This warning can be ignored when running in bare mode.\n",
            "2025-07-07 13:11:45.408 Thread 'MainThread': missing ScriptRunContext! This warning can be ignored when running in bare mode.\n",
            "2025-07-07 13:11:45.409 Thread 'MainThread': missing ScriptRunContext! This warning can be ignored when running in bare mode.\n",
            "2025-07-07 13:11:45.410 Thread 'MainThread': missing ScriptRunContext! This warning can be ignored when running in bare mode.\n",
            "2025-07-07 13:11:45.410 Thread 'MainThread': missing ScriptRunContext! This warning can be ignored when running in bare mode.\n",
            "2025-07-07 13:11:45.411 Thread 'MainThread': missing ScriptRunContext! This warning can be ignored when running in bare mode.\n",
            "2025-07-07 13:11:45.414 Thread 'MainThread': missing ScriptRunContext! This warning can be ignored when running in bare mode.\n",
            "2025-07-07 13:11:45.418 Thread 'MainThread': missing ScriptRunContext! This warning can be ignored when running in bare mode.\n",
            "2025-07-07 13:11:45.419 Thread 'MainThread': missing ScriptRunContext! This warning can be ignored when running in bare mode.\n",
            "2025-07-07 13:11:45.420 Thread 'MainThread': missing ScriptRunContext! This warning can be ignored when running in bare mode.\n",
            "2025-07-07 13:11:45.421 Thread 'MainThread': missing ScriptRunContext! This warning can be ignored when running in bare mode.\n",
            "2025-07-07 13:11:45.422 Thread 'MainThread': missing ScriptRunContext! This warning can be ignored when running in bare mode.\n",
            "2025-07-07 13:11:45.425 Thread 'MainThread': missing ScriptRunContext! This warning can be ignored when running in bare mode.\n",
            "2025-07-07 13:11:45.426 Thread 'MainThread': missing ScriptRunContext! This warning can be ignored when running in bare mode.\n",
            "2025-07-07 13:11:45.428 Thread 'MainThread': missing ScriptRunContext! This warning can be ignored when running in bare mode.\n",
            "2025-07-07 13:11:45.428 Thread 'MainThread': missing ScriptRunContext! This warning can be ignored when running in bare mode.\n",
            "2025-07-07 13:11:45.429 Thread 'MainThread': missing ScriptRunContext! This warning can be ignored when running in bare mode.\n",
            "2025-07-07 13:11:45.442 Thread 'MainThread': missing ScriptRunContext! This warning can be ignored when running in bare mode.\n",
            "2025-07-07 13:11:45.443 Thread 'MainThread': missing ScriptRunContext! This warning can be ignored when running in bare mode.\n",
            "2025-07-07 13:11:45.445 Thread 'MainThread': missing ScriptRunContext! This warning can be ignored when running in bare mode.\n",
            "2025-07-07 13:11:45.446 Thread 'MainThread': missing ScriptRunContext! This warning can be ignored when running in bare mode.\n",
            "2025-07-07 13:11:45.450 Thread 'MainThread': missing ScriptRunContext! This warning can be ignored when running in bare mode.\n",
            "2025-07-07 13:11:45.452 Thread 'MainThread': missing ScriptRunContext! This warning can be ignored when running in bare mode.\n",
            "2025-07-07 13:11:45.453 Thread 'MainThread': missing ScriptRunContext! This warning can be ignored when running in bare mode.\n",
            "2025-07-07 13:11:45.459 Thread 'MainThread': missing ScriptRunContext! This warning can be ignored when running in bare mode.\n",
            "2025-07-07 13:11:45.460 Thread 'MainThread': missing ScriptRunContext! This warning can be ignored when running in bare mode.\n",
            "2025-07-07 13:11:45.462 Thread 'MainThread': missing ScriptRunContext! This warning can be ignored when running in bare mode.\n",
            "2025-07-07 13:11:45.466 Thread 'MainThread': missing ScriptRunContext! This warning can be ignored when running in bare mode.\n",
            "2025-07-07 13:11:45.468 Thread 'MainThread': missing ScriptRunContext! This warning can be ignored when running in bare mode.\n",
            "2025-07-07 13:11:45.468 Thread 'MainThread': missing ScriptRunContext! This warning can be ignored when running in bare mode.\n",
            "2025-07-07 13:11:45.469 Thread 'MainThread': missing ScriptRunContext! This warning can be ignored when running in bare mode.\n",
            "2025-07-07 13:11:45.470 Thread 'MainThread': missing ScriptRunContext! This warning can be ignored when running in bare mode.\n",
            "2025-07-07 13:11:45.473 Thread 'MainThread': missing ScriptRunContext! This warning can be ignored when running in bare mode.\n",
            "2025-07-07 13:11:45.474 Thread 'MainThread': missing ScriptRunContext! This warning can be ignored when running in bare mode.\n",
            "2025-07-07 13:11:45.478 Thread 'MainThread': missing ScriptRunContext! This warning can be ignored when running in bare mode.\n",
            "2025-07-07 13:11:45.479 Thread 'MainThread': missing ScriptRunContext! This warning can be ignored when running in bare mode.\n",
            "2025-07-07 13:11:45.481 Thread 'MainThread': missing ScriptRunContext! This warning can be ignored when running in bare mode.\n"
          ]
        }
      ]
    },
    {
      "cell_type": "code",
      "source": [
        "import matplotlib.pyplot as plt\n",
        "import seaborn as sns\n",
        "import pandas as pd\n",
        "\n",
        "# Display predictions\n",
        "predicted = model.predict(X_test)\n",
        "df_result = pd.DataFrame({'Actual': y_test, 'Predicted': predicted})\n",
        "print(df_result.head())\n",
        "\n",
        "# Plot confusion matrix\n",
        "from sklearn.metrics import confusion_matrix, ConfusionMatrixDisplay\n",
        "cm = confusion_matrix(y_test, predicted)\n",
        "disp = ConfusionMatrixDisplay(confusion_matrix=cm)\n",
        "disp.plot()\n",
        "plt.show()\n"
      ],
      "metadata": {
        "colab": {
          "base_uri": "https://localhost:8080/",
          "height": 553
        },
        "id": "wmOgo7WkNkS7",
        "outputId": "cd7ec6d4-f761-4b03-98eb-131f7e7e6dd1"
      },
      "execution_count": 10,
      "outputs": [
        {
          "output_type": "stream",
          "name": "stdout",
          "text": [
            "     Actual Predicted\n",
            "361  Medium    Medium\n",
            "73   Medium    Medium\n",
            "374     Low       Low\n",
            "155     Low       Low\n",
            "104     Low       Low\n"
          ]
        },
        {
          "output_type": "display_data",
          "data": {
            "text/plain": [
              "<Figure size 640x480 with 2 Axes>"
            ],
            "image/png": "[encoded data removed]"
          },
          "metadata": {}
        }
      ]
    }
  ]
}